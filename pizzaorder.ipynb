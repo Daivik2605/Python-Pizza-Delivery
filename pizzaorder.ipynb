{
 "cells": [
  {
   "cell_type": "code",
   "execution_count": 1,
   "metadata": {},
   "outputs": [
    {
     "name": "stdout",
     "output_type": "stream",
     "text": [
      "Welcome to the Python Pizza Delivery\n",
      "What size Pizza do you want S, M or L: m\n",
      "Do you want pepporoni on your pizza? Y or N: n\n",
      "Do you want extra_cheese on your pizza? Y or N: y\n",
      "Total Bill is: 21\n"
     ]
    }
   ],
   "source": [
    "print(\"Welcome to the Python Pizza Delivery\")\n",
    "bill = 0\n",
    "while True:\n",
    "    try:\n",
    "        size = input(\"What size Pizza do you want S, M or L: \")\n",
    "        if size.lower() in ['s', 'm', 'l']:\n",
    "            break\n",
    "        else:\n",
    "            print(\"Try Again\")\n",
    "    except ValueError:\n",
    "        print(\"Enter a character\")\n",
    "\n",
    "while True:\n",
    "    try:\n",
    "        pepporoni = input(\"Do you want pepporoni on your pizza? Y or N: \")\n",
    "        if pepporoni.lower() in ['y', 'n']:\n",
    "            break\n",
    "        else:\n",
    "            print(\"Try Again\")\n",
    "    except ValueError:\n",
    "        print(\"Enter Y or N only\")\n",
    "\n",
    "while True:\n",
    "    try:\n",
    "        extra_cheese = input(\"Do you want extra_cheese on your pizza? Y or N: \")\n",
    "        if extra_cheese.lower() in ['y', 'n']:\n",
    "            break\n",
    "        else:\n",
    "            print(\"Try Again\")\n",
    "    except ValueError:\n",
    "        print(\"Enter Y or N only\")\n",
    "\n",
    "if size == 's':\n",
    "    bill += 15\n",
    "elif size == 'm':\n",
    "    bill += 20\n",
    "else:\n",
    "    bill += 25\n",
    "\n",
    "if pepporoni == 'y':\n",
    "    bill += 2\n",
    "\n",
    "if extra_cheese == 'y':\n",
    "    bill += 1\n",
    "\n",
    "print(f\"Total Bill is: {bill}\")"
   ]
  },
  {
   "cell_type": "code",
   "execution_count": null,
   "metadata": {},
   "outputs": [],
   "source": []
  }
 ],
 "metadata": {
  "kernelspec": {
   "display_name": "Python 3 (ipykernel)",
   "language": "python",
   "name": "python3"
  },
  "language_info": {
   "codemirror_mode": {
    "name": "ipython",
    "version": 3
   },
   "file_extension": ".py",
   "mimetype": "text/x-python",
   "name": "python",
   "nbconvert_exporter": "python",
   "pygments_lexer": "ipython3",
   "version": "3.11.5"
  }
 },
 "nbformat": 4,
 "nbformat_minor": 2
}
